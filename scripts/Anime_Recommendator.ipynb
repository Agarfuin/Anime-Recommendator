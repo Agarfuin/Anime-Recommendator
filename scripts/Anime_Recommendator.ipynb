{
 "cells": [
  {
   "cell_type": "code",
   "execution_count": 1,
   "metadata": {
    "executionInfo": {
     "elapsed": 945,
     "status": "ok",
     "timestamp": 1641765448955,
     "user": {
      "displayName": "Harun Selman Karakaş",
      "photoUrl": "https://lh3.googleusercontent.com/a/default-user=s64",
      "userId": "07267645695106018309"
     },
     "user_tz": -180
    },
    "id": "V2X0ODe7grc6"
   },
   "outputs": [],
   "source": [
    "import numpy as np\n",
    "import matplotlib.pyplot as plt\n",
    "import pandas as pd\n",
    "import seaborn as sns"
   ]
  },
  {
   "cell_type": "code",
   "execution_count": 2,
   "metadata": {
    "executionInfo": {
     "elapsed": 4376,
     "status": "ok",
     "timestamp": 1641765453326,
     "user": {
      "displayName": "Harun Selman Karakaş",
      "photoUrl": "https://lh3.googleusercontent.com/a/default-user=s64",
      "userId": "07267645695106018309"
     },
     "user_tz": -180
    },
    "id": "-maEGXetg5i3"
   },
   "outputs": [],
   "source": [
    "animes = pd.read_csv('../data/anime.csv')\n",
    "ratings = pd.read_csv('../data/rating.csv')"
   ]
  },
  {
   "cell_type": "code",
   "execution_count": 3,
   "metadata": {
    "colab": {
     "base_uri": "https://localhost:8080/",
     "height": 206
    },
    "executionInfo": {
     "elapsed": 14,
     "status": "ok",
     "timestamp": 1641765453327,
     "user": {
      "displayName": "Harun Selman Karakaş",
      "photoUrl": "https://lh3.googleusercontent.com/a/default-user=s64",
      "userId": "07267645695106018309"
     },
     "user_tz": -180
    },
    "id": "8FRSL2lpl4iN",
    "outputId": "d71cc6c3-465e-4e39-ca37-e9a926234ab4"
   },
   "outputs": [
    {
     "data": {
      "text/html": [
       "<div>\n",
       "<style scoped>\n",
       "    .dataframe tbody tr th:only-of-type {\n",
       "        vertical-align: middle;\n",
       "    }\n",
       "\n",
       "    .dataframe tbody tr th {\n",
       "        vertical-align: top;\n",
       "    }\n",
       "\n",
       "    .dataframe thead th {\n",
       "        text-align: right;\n",
       "    }\n",
       "</style>\n",
       "<table border=\"1\" class=\"dataframe\">\n",
       "  <thead>\n",
       "    <tr style=\"text-align: right;\">\n",
       "      <th></th>\n",
       "      <th>anime_id</th>\n",
       "      <th>name</th>\n",
       "      <th>genre</th>\n",
       "      <th>type</th>\n",
       "      <th>episodes</th>\n",
       "      <th>rating</th>\n",
       "      <th>members</th>\n",
       "    </tr>\n",
       "  </thead>\n",
       "  <tbody>\n",
       "    <tr>\n",
       "      <th>0</th>\n",
       "      <td>32281</td>\n",
       "      <td>Kimi no Na wa.</td>\n",
       "      <td>Drama, Romance, School, Supernatural</td>\n",
       "      <td>Movie</td>\n",
       "      <td>1</td>\n",
       "      <td>9.37</td>\n",
       "      <td>200630</td>\n",
       "    </tr>\n",
       "    <tr>\n",
       "      <th>1</th>\n",
       "      <td>5114</td>\n",
       "      <td>Fullmetal Alchemist: Brotherhood</td>\n",
       "      <td>Action, Adventure, Drama, Fantasy, Magic, Mili...</td>\n",
       "      <td>TV</td>\n",
       "      <td>64</td>\n",
       "      <td>9.26</td>\n",
       "      <td>793665</td>\n",
       "    </tr>\n",
       "    <tr>\n",
       "      <th>2</th>\n",
       "      <td>28977</td>\n",
       "      <td>Gintama°</td>\n",
       "      <td>Action, Comedy, Historical, Parody, Samurai, S...</td>\n",
       "      <td>TV</td>\n",
       "      <td>51</td>\n",
       "      <td>9.25</td>\n",
       "      <td>114262</td>\n",
       "    </tr>\n",
       "    <tr>\n",
       "      <th>3</th>\n",
       "      <td>9253</td>\n",
       "      <td>Steins;Gate</td>\n",
       "      <td>Sci-Fi, Thriller</td>\n",
       "      <td>TV</td>\n",
       "      <td>24</td>\n",
       "      <td>9.17</td>\n",
       "      <td>673572</td>\n",
       "    </tr>\n",
       "    <tr>\n",
       "      <th>4</th>\n",
       "      <td>9969</td>\n",
       "      <td>Gintama&amp;#039;</td>\n",
       "      <td>Action, Comedy, Historical, Parody, Samurai, S...</td>\n",
       "      <td>TV</td>\n",
       "      <td>51</td>\n",
       "      <td>9.16</td>\n",
       "      <td>151266</td>\n",
       "    </tr>\n",
       "  </tbody>\n",
       "</table>\n",
       "</div>"
      ],
      "text/plain": [
       "   anime_id                              name  \\\n",
       "0     32281                    Kimi no Na wa.   \n",
       "1      5114  Fullmetal Alchemist: Brotherhood   \n",
       "2     28977                          Gintama°   \n",
       "3      9253                       Steins;Gate   \n",
       "4      9969                     Gintama&#039;   \n",
       "\n",
       "                                               genre   type episodes  rating  \\\n",
       "0               Drama, Romance, School, Supernatural  Movie        1    9.37   \n",
       "1  Action, Adventure, Drama, Fantasy, Magic, Mili...     TV       64    9.26   \n",
       "2  Action, Comedy, Historical, Parody, Samurai, S...     TV       51    9.25   \n",
       "3                                   Sci-Fi, Thriller     TV       24    9.17   \n",
       "4  Action, Comedy, Historical, Parody, Samurai, S...     TV       51    9.16   \n",
       "\n",
       "   members  \n",
       "0   200630  \n",
       "1   793665  \n",
       "2   114262  \n",
       "3   673572  \n",
       "4   151266  "
      ]
     },
     "execution_count": 3,
     "metadata": {},
     "output_type": "execute_result"
    }
   ],
   "source": [
    "animes.head()"
   ]
  },
  {
   "cell_type": "code",
   "execution_count": 4,
   "metadata": {
    "colab": {
     "base_uri": "https://localhost:8080/",
     "height": 206
    },
    "executionInfo": {
     "elapsed": 11,
     "status": "ok",
     "timestamp": 1641765453328,
     "user": {
      "displayName": "Harun Selman Karakaş",
      "photoUrl": "https://lh3.googleusercontent.com/a/default-user=s64",
      "userId": "07267645695106018309"
     },
     "user_tz": -180
    },
    "id": "yH9yKv5HsdwF",
    "outputId": "b59e1ff1-3e17-4bf5-fc16-04310ba2e862"
   },
   "outputs": [
    {
     "data": {
      "text/html": [
       "<div>\n",
       "<style scoped>\n",
       "    .dataframe tbody tr th:only-of-type {\n",
       "        vertical-align: middle;\n",
       "    }\n",
       "\n",
       "    .dataframe tbody tr th {\n",
       "        vertical-align: top;\n",
       "    }\n",
       "\n",
       "    .dataframe thead th {\n",
       "        text-align: right;\n",
       "    }\n",
       "</style>\n",
       "<table border=\"1\" class=\"dataframe\">\n",
       "  <thead>\n",
       "    <tr style=\"text-align: right;\">\n",
       "      <th></th>\n",
       "      <th>user_id</th>\n",
       "      <th>anime_id</th>\n",
       "      <th>rating</th>\n",
       "    </tr>\n",
       "  </thead>\n",
       "  <tbody>\n",
       "    <tr>\n",
       "      <th>0</th>\n",
       "      <td>1</td>\n",
       "      <td>20</td>\n",
       "      <td>-1</td>\n",
       "    </tr>\n",
       "    <tr>\n",
       "      <th>1</th>\n",
       "      <td>1</td>\n",
       "      <td>24</td>\n",
       "      <td>-1</td>\n",
       "    </tr>\n",
       "    <tr>\n",
       "      <th>2</th>\n",
       "      <td>1</td>\n",
       "      <td>79</td>\n",
       "      <td>-1</td>\n",
       "    </tr>\n",
       "    <tr>\n",
       "      <th>3</th>\n",
       "      <td>1</td>\n",
       "      <td>226</td>\n",
       "      <td>-1</td>\n",
       "    </tr>\n",
       "    <tr>\n",
       "      <th>4</th>\n",
       "      <td>1</td>\n",
       "      <td>241</td>\n",
       "      <td>-1</td>\n",
       "    </tr>\n",
       "  </tbody>\n",
       "</table>\n",
       "</div>"
      ],
      "text/plain": [
       "   user_id  anime_id  rating\n",
       "0        1        20      -1\n",
       "1        1        24      -1\n",
       "2        1        79      -1\n",
       "3        1       226      -1\n",
       "4        1       241      -1"
      ]
     },
     "execution_count": 4,
     "metadata": {},
     "output_type": "execute_result"
    }
   ],
   "source": [
    "ratings.head()"
   ]
  },
  {
   "cell_type": "code",
   "execution_count": 5,
   "metadata": {
    "colab": {
     "base_uri": "https://localhost:8080/",
     "height": 283
    },
    "executionInfo": {
     "elapsed": 424,
     "status": "ok",
     "timestamp": 1641765453743,
     "user": {
      "displayName": "Harun Selman Karakaş",
      "photoUrl": "https://lh3.googleusercontent.com/a/default-user=s64",
      "userId": "07267645695106018309"
     },
     "user_tz": -180
    },
    "id": "SUPMuJ-LnUMu",
    "outputId": "3945290a-429a-4383-89ca-dc9da884f8e7"
   },
   "outputs": [
    {
     "data": {
      "text/plain": [
       "<AxesSubplot:>"
      ]
     },
     "execution_count": 5,
     "metadata": {},
     "output_type": "execute_result"
    },
    {
     "data": {
      "image/png": "[encoded data removed]",
      "text/plain": [
       "<Figure size 432x288 with 1 Axes>"
      ]
     },
     "metadata": {
      "needs_background": "light"
     },
     "output_type": "display_data"
    }
   ],
   "source": [
    "sns.heatmap(animes.isnull(),yticklabels=False,cbar=False,cmap='viridis')"
   ]
  },
  {
   "cell_type": "code",
   "execution_count": 6,
   "metadata": {
    "colab": {
     "base_uri": "https://localhost:8080/",
     "height": 362
    },
    "executionInfo": {
     "elapsed": 883,
     "status": "ok",
     "timestamp": 1641765454621,
     "user": {
      "displayName": "Harun Selman Karakaş",
      "photoUrl": "https://lh3.googleusercontent.com/a/default-user=s64",
      "userId": "07267645695106018309"
     },
     "user_tz": -180
    },
    "id": "tribLbq_r8Uz",
    "outputId": "0adf0f24-a0c4-4f53-cdb7-c86598d1332b"
   },
   "outputs": [
    {
     "name": "stderr",
     "output_type": "stream",
     "text": [
      "/Users/harun/Documents/venv/main/lib/python3.9/site-packages/seaborn/_decorators.py:36: FutureWarning: Pass the following variable as a keyword arg: x. From version 0.12, the only valid positional argument will be `data`, and passing other arguments without an explicit keyword will result in an error or misinterpretation.\n",
      "  warnings.warn(\n"
     ]
    },
    {
     "data": {
      "text/plain": [
       "<AxesSubplot:xlabel='rating', ylabel='count'>"
      ]
     },
     "execution_count": 6,
     "metadata": {},
     "output_type": "execute_result"
    },
    {
     "data": {
      "image/png": "[encoded data removed]",
      "text/plain": [
       "<Figure size 432x288 with 1 Axes>"
      ]
     },
     "metadata": {
      "needs_background": "light"
     },
     "output_type": "display_data"
    }
   ],
   "source": [
    "sns.countplot(ratings['rating'])"
   ]
  },
  {
   "cell_type": "code",
   "execution_count": 7,
   "metadata": {
    "colab": {
     "base_uri": "https://localhost:8080/",
     "height": 362
    },
    "executionInfo": {
     "elapsed": 1195,
     "status": "ok",
     "timestamp": 1641765455813,
     "user": {
      "displayName": "Harun Selman Karakaş",
      "photoUrl": "https://lh3.googleusercontent.com/a/default-user=s64",
      "userId": "07267645695106018309"
     },
     "user_tz": -180
    },
    "id": "pPsWI9ffshw4",
    "outputId": "dfefb813-b592-4f95-b9fb-c39a15f86f1c"
   },
   "outputs": [
    {
     "name": "stderr",
     "output_type": "stream",
     "text": [
      "/Users/harun/Documents/venv/main/lib/python3.9/site-packages/seaborn/_decorators.py:36: FutureWarning: Pass the following variable as a keyword arg: x. From version 0.12, the only valid positional argument will be `data`, and passing other arguments without an explicit keyword will result in an error or misinterpretation.\n",
      "  warnings.warn(\n"
     ]
    },
    {
     "data": {
      "text/plain": [
       "<AxesSubplot:xlabel='rating', ylabel='count'>"
      ]
     },
     "execution_count": 7,
     "metadata": {},
     "output_type": "execute_result"
    },
    {
     "data": {
      "image/png": "[encoded data removed]",
      "text/plain": [
       "<Figure size 432x288 with 1 Axes>"
      ]
     },
     "metadata": {
      "needs_background": "light"
     },
     "output_type": "display_data"
    }
   ],
   "source": [
    "clean_ratings = ratings[ratings['rating']>0]\n",
    "sns.countplot(clean_ratings['rating'])"
   ]
  },
  {
   "cell_type": "code",
   "execution_count": 8,
   "metadata": {
    "colab": {
     "base_uri": "https://localhost:8080/",
     "height": 283
    },
    "executionInfo": {
     "elapsed": 452,
     "status": "ok",
     "timestamp": 1641765456261,
     "user": {
      "displayName": "Harun Selman Karakaş",
      "photoUrl": "https://lh3.googleusercontent.com/a/default-user=s64",
      "userId": "07267645695106018309"
     },
     "user_tz": -180
    },
    "id": "lGquIC0yoXTq",
    "outputId": "700afd93-6e8e-426a-d70d-158ae353a85b"
   },
   "outputs": [
    {
     "data": {
      "text/plain": [
       "<AxesSubplot:>"
      ]
     },
     "execution_count": 8,
     "metadata": {},
     "output_type": "execute_result"
    },
    {
     "data": {
      "image/png": "[encoded data removed]",
      "text/plain": [
       "<Figure size 432x288 with 1 Axes>"
      ]
     },
     "metadata": {
      "needs_background": "light"
     },
     "output_type": "display_data"
    }
   ],
   "source": [
    "clean_animes = animes.dropna()\n",
    "sns.heatmap(clean_animes.isnull(),yticklabels=False,cbar=False,cmap='viridis')"
   ]
  },
  {
   "cell_type": "code",
   "execution_count": 9,
   "metadata": {
    "colab": {
     "base_uri": "https://localhost:8080/"
    },
    "executionInfo": {
     "elapsed": 5,
     "status": "ok",
     "timestamp": 1641765456262,
     "user": {
      "displayName": "Harun Selman Karakaş",
      "photoUrl": "https://lh3.googleusercontent.com/a/default-user=s64",
      "userId": "07267645695106018309"
     },
     "user_tz": -180
    },
    "id": "-1SYxHoKl9PJ",
    "outputId": "df7758e8-0f01-451a-f46d-e7cf0032b895"
   },
   "outputs": [
    {
     "name": "stdout",
     "output_type": "stream",
     "text": [
      "['Drama' 'Action' 'Sci-Fi' 'Comedy' 'Adventure' 'Fantasy' 'Mystery'\n",
      " 'Psychological' 'Ecchi' 'Josei' 'Military' 'Romance' 'Demons' 'Dementia'\n",
      " 'Music' 'Game' 'Cars' 'Mecha' 'Horror' 'School' 'Historical' 'Kids'\n",
      " 'Shounen' 'Shoujo' 'Magic' 'Harem' 'Martial Arts' 'Sports'\n",
      " 'Slice of Life' 'Seinen' 'Parody' 'Police' 'Thriller' 'Supernatural'\n",
      " 'Samurai' 'Super Power' 'Vampire' 'Space' 'Hentai' 'Yaoi' 'Shoujo Ai'\n",
      " 'Shounen Ai' 'Yuri']\n"
     ]
    }
   ],
   "source": [
    "genres = clean_animes['genre'].str.split(\", \", expand=True)\n",
    "unique_genres = pd.Series(genres.values.ravel('K')).dropna().unique()\n",
    "print(unique_genres)"
   ]
  },
  {
   "cell_type": "code",
   "execution_count": 10,
   "metadata": {
    "colab": {
     "base_uri": "https://localhost:8080/",
     "height": 317
    },
    "executionInfo": {
     "elapsed": 445,
     "status": "ok",
     "timestamp": 1641765459793,
     "user": {
      "displayName": "Harun Selman Karakaş",
      "photoUrl": "https://lh3.googleusercontent.com/a/default-user=s64",
      "userId": "07267645695106018309"
     },
     "user_tz": -180
    },
    "id": "pquUskqaq-KN",
    "outputId": "79cf3579-3ead-43c2-ba37-d9a3d5bd55e8"
   },
   "outputs": [
    {
     "data": {
      "text/html": [
       "<div>\n",
       "<style scoped>\n",
       "    .dataframe tbody tr th:only-of-type {\n",
       "        vertical-align: middle;\n",
       "    }\n",
       "\n",
       "    .dataframe tbody tr th {\n",
       "        vertical-align: top;\n",
       "    }\n",
       "\n",
       "    .dataframe thead th {\n",
       "        text-align: right;\n",
       "    }\n",
       "</style>\n",
       "<table border=\"1\" class=\"dataframe\">\n",
       "  <thead>\n",
       "    <tr style=\"text-align: right;\">\n",
       "      <th></th>\n",
       "      <th>0_Action</th>\n",
       "      <th>0_Adventure</th>\n",
       "      <th>0_Cars</th>\n",
       "      <th>0_Comedy</th>\n",
       "      <th>0_Dementia</th>\n",
       "      <th>0_Demons</th>\n",
       "      <th>0_Drama</th>\n",
       "      <th>0_Ecchi</th>\n",
       "      <th>0_Fantasy</th>\n",
       "      <th>0_Game</th>\n",
       "      <th>...</th>\n",
       "      <th>9_School</th>\n",
       "      <th>9_Sci-Fi</th>\n",
       "      <th>9_Shounen</th>\n",
       "      <th>9_Space</th>\n",
       "      <th>9_Super Power</th>\n",
       "      <th>9_Supernatural</th>\n",
       "      <th>10_Slice of Life</th>\n",
       "      <th>10_Supernatural</th>\n",
       "      <th>11_Super Power</th>\n",
       "      <th>12_Supernatural</th>\n",
       "    </tr>\n",
       "  </thead>\n",
       "  <tbody>\n",
       "    <tr>\n",
       "      <th>0</th>\n",
       "      <td>0</td>\n",
       "      <td>0</td>\n",
       "      <td>0</td>\n",
       "      <td>0</td>\n",
       "      <td>0</td>\n",
       "      <td>0</td>\n",
       "      <td>1</td>\n",
       "      <td>0</td>\n",
       "      <td>0</td>\n",
       "      <td>0</td>\n",
       "      <td>...</td>\n",
       "      <td>0</td>\n",
       "      <td>0</td>\n",
       "      <td>0</td>\n",
       "      <td>0</td>\n",
       "      <td>0</td>\n",
       "      <td>0</td>\n",
       "      <td>0</td>\n",
       "      <td>0</td>\n",
       "      <td>0</td>\n",
       "      <td>0</td>\n",
       "    </tr>\n",
       "    <tr>\n",
       "      <th>1</th>\n",
       "      <td>1</td>\n",
       "      <td>0</td>\n",
       "      <td>0</td>\n",
       "      <td>0</td>\n",
       "      <td>0</td>\n",
       "      <td>0</td>\n",
       "      <td>0</td>\n",
       "      <td>0</td>\n",
       "      <td>0</td>\n",
       "      <td>0</td>\n",
       "      <td>...</td>\n",
       "      <td>0</td>\n",
       "      <td>0</td>\n",
       "      <td>0</td>\n",
       "      <td>0</td>\n",
       "      <td>0</td>\n",
       "      <td>0</td>\n",
       "      <td>0</td>\n",
       "      <td>0</td>\n",
       "      <td>0</td>\n",
       "      <td>0</td>\n",
       "    </tr>\n",
       "    <tr>\n",
       "      <th>2</th>\n",
       "      <td>1</td>\n",
       "      <td>0</td>\n",
       "      <td>0</td>\n",
       "      <td>0</td>\n",
       "      <td>0</td>\n",
       "      <td>0</td>\n",
       "      <td>0</td>\n",
       "      <td>0</td>\n",
       "      <td>0</td>\n",
       "      <td>0</td>\n",
       "      <td>...</td>\n",
       "      <td>0</td>\n",
       "      <td>0</td>\n",
       "      <td>0</td>\n",
       "      <td>0</td>\n",
       "      <td>0</td>\n",
       "      <td>0</td>\n",
       "      <td>0</td>\n",
       "      <td>0</td>\n",
       "      <td>0</td>\n",
       "      <td>0</td>\n",
       "    </tr>\n",
       "    <tr>\n",
       "      <th>3</th>\n",
       "      <td>0</td>\n",
       "      <td>0</td>\n",
       "      <td>0</td>\n",
       "      <td>0</td>\n",
       "      <td>0</td>\n",
       "      <td>0</td>\n",
       "      <td>0</td>\n",
       "      <td>0</td>\n",
       "      <td>0</td>\n",
       "      <td>0</td>\n",
       "      <td>...</td>\n",
       "      <td>0</td>\n",
       "      <td>0</td>\n",
       "      <td>0</td>\n",
       "      <td>0</td>\n",
       "      <td>0</td>\n",
       "      <td>0</td>\n",
       "      <td>0</td>\n",
       "      <td>0</td>\n",
       "      <td>0</td>\n",
       "      <td>0</td>\n",
       "    </tr>\n",
       "    <tr>\n",
       "      <th>4</th>\n",
       "      <td>1</td>\n",
       "      <td>0</td>\n",
       "      <td>0</td>\n",
       "      <td>0</td>\n",
       "      <td>0</td>\n",
       "      <td>0</td>\n",
       "      <td>0</td>\n",
       "      <td>0</td>\n",
       "      <td>0</td>\n",
       "      <td>0</td>\n",
       "      <td>...</td>\n",
       "      <td>0</td>\n",
       "      <td>0</td>\n",
       "      <td>0</td>\n",
       "      <td>0</td>\n",
       "      <td>0</td>\n",
       "      <td>0</td>\n",
       "      <td>0</td>\n",
       "      <td>0</td>\n",
       "      <td>0</td>\n",
       "      <td>0</td>\n",
       "    </tr>\n",
       "  </tbody>\n",
       "</table>\n",
       "<p>5 rows × 299 columns</p>\n",
       "</div>"
      ],
      "text/plain": [
       "   0_Action  0_Adventure  0_Cars  0_Comedy  0_Dementia  0_Demons  0_Drama  \\\n",
       "0         0            0       0         0           0         0        1   \n",
       "1         1            0       0         0           0         0        0   \n",
       "2         1            0       0         0           0         0        0   \n",
       "3         0            0       0         0           0         0        0   \n",
       "4         1            0       0         0           0         0        0   \n",
       "\n",
       "   0_Ecchi  0_Fantasy  0_Game  ...  9_School  9_Sci-Fi  9_Shounen  9_Space  \\\n",
       "0        0          0       0  ...         0         0          0        0   \n",
       "1        0          0       0  ...         0         0          0        0   \n",
       "2        0          0       0  ...         0         0          0        0   \n",
       "3        0          0       0  ...         0         0          0        0   \n",
       "4        0          0       0  ...         0         0          0        0   \n",
       "\n",
       "   9_Super Power  9_Supernatural  10_Slice of Life  10_Supernatural  \\\n",
       "0              0               0                 0                0   \n",
       "1              0               0                 0                0   \n",
       "2              0               0                 0                0   \n",
       "3              0               0                 0                0   \n",
       "4              0               0                 0                0   \n",
       "\n",
       "   11_Super Power  12_Supernatural  \n",
       "0               0                0  \n",
       "1               0                0  \n",
       "2               0                0  \n",
       "3               0                0  \n",
       "4               0                0  \n",
       "\n",
       "[5 rows x 299 columns]"
      ]
     },
     "execution_count": 10,
     "metadata": {},
     "output_type": "execute_result"
    }
   ],
   "source": [
    "genre_dummies = pd.get_dummies(genres)\n",
    "genre_dummies.head()"
   ]
  },
  {
   "cell_type": "code",
   "execution_count": 11,
   "metadata": {
    "colab": {
     "base_uri": "https://localhost:8080/"
    },
    "executionInfo": {
     "elapsed": 3,
     "status": "ok",
     "timestamp": 1641765460372,
     "user": {
      "displayName": "Harun Selman Karakaş",
      "photoUrl": "https://lh3.googleusercontent.com/a/default-user=s64",
      "userId": "07267645695106018309"
     },
     "user_tz": -180
    },
    "id": "YOT9-UxIyEW2",
    "outputId": "3f6e65bd-75a5-4604-fc20-e467764e266f"
   },
   "outputs": [
    {
     "name": "stdout",
     "output_type": "stream",
     "text": [
      "<class 'pandas.core.frame.DataFrame'>\n",
      "Int64Index: 12017 entries, 0 to 12293\n",
      "Data columns (total 50 columns):\n",
      " #   Column                Non-Null Count  Dtype  \n",
      "---  ------                --------------  -----  \n",
      " 0   anime_id              12017 non-null  int64  \n",
      " 1   name                  12017 non-null  object \n",
      " 2   genre                 12017 non-null  object \n",
      " 3   type                  12017 non-null  object \n",
      " 4   episodes              12017 non-null  object \n",
      " 5   rating                12017 non-null  float64\n",
      " 6   members               12017 non-null  int64  \n",
      " 7   Genre: Drama          12017 non-null  int64  \n",
      " 8   Genre: Action         12017 non-null  int64  \n",
      " 9   Genre: Sci-Fi         12017 non-null  int64  \n",
      " 10  Genre: Comedy         12017 non-null  int64  \n",
      " 11  Genre: Adventure      12017 non-null  int64  \n",
      " 12  Genre: Fantasy        12017 non-null  int64  \n",
      " 13  Genre: Mystery        12017 non-null  int64  \n",
      " 14  Genre: Psychological  12017 non-null  int64  \n",
      " 15  Genre: Ecchi          12017 non-null  int64  \n",
      " 16  Genre: Josei          12017 non-null  int64  \n",
      " 17  Genre: Military       12017 non-null  int64  \n",
      " 18  Genre: Romance        12017 non-null  int64  \n",
      " 19  Genre: Demons         12017 non-null  int64  \n",
      " 20  Genre: Dementia       12017 non-null  int64  \n",
      " 21  Genre: Music          12017 non-null  int64  \n",
      " 22  Genre: Game           12017 non-null  int64  \n",
      " 23  Genre: Cars           12017 non-null  int64  \n",
      " 24  Genre: Mecha          12017 non-null  int64  \n",
      " 25  Genre: Horror         12017 non-null  int64  \n",
      " 26  Genre: School         12017 non-null  int64  \n",
      " 27  Genre: Historical     12017 non-null  int64  \n",
      " 28  Genre: Kids           12017 non-null  int64  \n",
      " 29  Genre: Shounen        12017 non-null  int64  \n",
      " 30  Genre: Shoujo         12017 non-null  int64  \n",
      " 31  Genre: Magic          12017 non-null  int64  \n",
      " 32  Genre: Harem          12017 non-null  int64  \n",
      " 33  Genre: Martial Arts   12017 non-null  int64  \n",
      " 34  Genre: Sports         12017 non-null  int64  \n",
      " 35  Genre: Slice of Life  12017 non-null  int64  \n",
      " 36  Genre: Seinen         12017 non-null  int64  \n",
      " 37  Genre: Parody         12017 non-null  int64  \n",
      " 38  Genre: Police         12017 non-null  int64  \n",
      " 39  Genre: Thriller       12017 non-null  int64  \n",
      " 40  Genre: Supernatural   12017 non-null  int64  \n",
      " 41  Genre: Samurai        12017 non-null  int64  \n",
      " 42  Genre: Super Power    12017 non-null  int64  \n",
      " 43  Genre: Vampire        12017 non-null  int64  \n",
      " 44  Genre: Space          12017 non-null  int64  \n",
      " 45  Genre: Hentai         12017 non-null  int64  \n",
      " 46  Genre: Yaoi           12017 non-null  int64  \n",
      " 47  Genre: Shoujo Ai      12017 non-null  int64  \n",
      " 48  Genre: Shounen Ai     12017 non-null  int64  \n",
      " 49  Genre: Yuri           12017 non-null  int64  \n",
      "dtypes: float64(1), int64(45), object(4)\n",
      "memory usage: 4.7+ MB\n"
     ]
    },
    {
     "name": "stderr",
     "output_type": "stream",
     "text": [
      "/var/folders/hc/4mqkc4fd32b8c4bvg069yxrc0000gn/T/ipykernel_20639/1013384723.py:2: SettingWithCopyWarning: \n",
      "A value is trying to be set on a copy of a slice from a DataFrame.\n",
      "Try using .loc[row_indexer,col_indexer] = value instead\n",
      "\n",
      "See the caveats in the documentation: https://pandas.pydata.org/pandas-docs/stable/user_guide/indexing.html#returning-a-view-versus-a-copy\n",
      "  clean_animes[\"Genre: \" + genre] = genre_dummies.loc[:, genre_dummies.columns.str.endswith(genre)].sum(axis=1)\n",
      "/var/folders/hc/4mqkc4fd32b8c4bvg069yxrc0000gn/T/ipykernel_20639/1013384723.py:2: SettingWithCopyWarning: \n",
      "A value is trying to be set on a copy of a slice from a DataFrame.\n",
      "Try using .loc[row_indexer,col_indexer] = value instead\n",
      "\n",
      "See the caveats in the documentation: https://pandas.pydata.org/pandas-docs/stable/user_guide/indexing.html#returning-a-view-versus-a-copy\n",
      "  clean_animes[\"Genre: \" + genre] = genre_dummies.loc[:, genre_dummies.columns.str.endswith(genre)].sum(axis=1)\n",
      "/var/folders/hc/4mqkc4fd32b8c4bvg069yxrc0000gn/T/ipykernel_20639/1013384723.py:2: SettingWithCopyWarning: \n",
      "A value is trying to be set on a copy of a slice from a DataFrame.\n",
      "Try using .loc[row_indexer,col_indexer] = value instead\n",
      "\n",
      "See the caveats in the documentation: https://pandas.pydata.org/pandas-docs/stable/user_guide/indexing.html#returning-a-view-versus-a-copy\n",
      "  clean_animes[\"Genre: \" + genre] = genre_dummies.loc[:, genre_dummies.columns.str.endswith(genre)].sum(axis=1)\n",
      "/var/folders/hc/4mqkc4fd32b8c4bvg069yxrc0000gn/T/ipykernel_20639/1013384723.py:2: SettingWithCopyWarning: \n",
      "A value is trying to be set on a copy of a slice from a DataFrame.\n",
      "Try using .loc[row_indexer,col_indexer] = value instead\n",
      "\n",
      "See the caveats in the documentation: https://pandas.pydata.org/pandas-docs/stable/user_guide/indexing.html#returning-a-view-versus-a-copy\n",
      "  clean_animes[\"Genre: \" + genre] = genre_dummies.loc[:, genre_dummies.columns.str.endswith(genre)].sum(axis=1)\n",
      "/var/folders/hc/4mqkc4fd32b8c4bvg069yxrc0000gn/T/ipykernel_20639/1013384723.py:2: SettingWithCopyWarning: \n",
      "A value is trying to be set on a copy of a slice from a DataFrame.\n",
      "Try using .loc[row_indexer,col_indexer] = value instead\n",
      "\n",
      "See the caveats in the documentation: https://pandas.pydata.org/pandas-docs/stable/user_guide/indexing.html#returning-a-view-versus-a-copy\n",
      "  clean_animes[\"Genre: \" + genre] = genre_dummies.loc[:, genre_dummies.columns.str.endswith(genre)].sum(axis=1)\n",
      "/var/folders/hc/4mqkc4fd32b8c4bvg069yxrc0000gn/T/ipykernel_20639/1013384723.py:2: SettingWithCopyWarning: \n",
      "A value is trying to be set on a copy of a slice from a DataFrame.\n",
      "Try using .loc[row_indexer,col_indexer] = value instead\n",
      "\n",
      "See the caveats in the documentation: https://pandas.pydata.org/pandas-docs/stable/user_guide/indexing.html#returning-a-view-versus-a-copy\n",
      "  clean_animes[\"Genre: \" + genre] = genre_dummies.loc[:, genre_dummies.columns.str.endswith(genre)].sum(axis=1)\n",
      "/var/folders/hc/4mqkc4fd32b8c4bvg069yxrc0000gn/T/ipykernel_20639/1013384723.py:2: SettingWithCopyWarning: \n",
      "A value is trying to be set on a copy of a slice from a DataFrame.\n",
      "Try using .loc[row_indexer,col_indexer] = value instead\n",
      "\n",
      "See the caveats in the documentation: https://pandas.pydata.org/pandas-docs/stable/user_guide/indexing.html#returning-a-view-versus-a-copy\n",
      "  clean_animes[\"Genre: \" + genre] = genre_dummies.loc[:, genre_dummies.columns.str.endswith(genre)].sum(axis=1)\n",
      "/var/folders/hc/4mqkc4fd32b8c4bvg069yxrc0000gn/T/ipykernel_20639/1013384723.py:2: SettingWithCopyWarning: \n",
      "A value is trying to be set on a copy of a slice from a DataFrame.\n",
      "Try using .loc[row_indexer,col_indexer] = value instead\n",
      "\n",
      "See the caveats in the documentation: https://pandas.pydata.org/pandas-docs/stable/user_guide/indexing.html#returning-a-view-versus-a-copy\n",
      "  clean_animes[\"Genre: \" + genre] = genre_dummies.loc[:, genre_dummies.columns.str.endswith(genre)].sum(axis=1)\n",
      "/var/folders/hc/4mqkc4fd32b8c4bvg069yxrc0000gn/T/ipykernel_20639/1013384723.py:2: SettingWithCopyWarning: \n",
      "A value is trying to be set on a copy of a slice from a DataFrame.\n",
      "Try using .loc[row_indexer,col_indexer] = value instead\n",
      "\n",
      "See the caveats in the documentation: https://pandas.pydata.org/pandas-docs/stable/user_guide/indexing.html#returning-a-view-versus-a-copy\n",
      "  clean_animes[\"Genre: \" + genre] = genre_dummies.loc[:, genre_dummies.columns.str.endswith(genre)].sum(axis=1)\n",
      "/var/folders/hc/4mqkc4fd32b8c4bvg069yxrc0000gn/T/ipykernel_20639/1013384723.py:2: SettingWithCopyWarning: \n",
      "A value is trying to be set on a copy of a slice from a DataFrame.\n",
      "Try using .loc[row_indexer,col_indexer] = value instead\n",
      "\n",
      "See the caveats in the documentation: https://pandas.pydata.org/pandas-docs/stable/user_guide/indexing.html#returning-a-view-versus-a-copy\n",
      "  clean_animes[\"Genre: \" + genre] = genre_dummies.loc[:, genre_dummies.columns.str.endswith(genre)].sum(axis=1)\n",
      "/var/folders/hc/4mqkc4fd32b8c4bvg069yxrc0000gn/T/ipykernel_20639/1013384723.py:2: SettingWithCopyWarning: \n",
      "A value is trying to be set on a copy of a slice from a DataFrame.\n",
      "Try using .loc[row_indexer,col_indexer] = value instead\n",
      "\n",
      "See the caveats in the documentation: https://pandas.pydata.org/pandas-docs/stable/user_guide/indexing.html#returning-a-view-versus-a-copy\n",
      "  clean_animes[\"Genre: \" + genre] = genre_dummies.loc[:, genre_dummies.columns.str.endswith(genre)].sum(axis=1)\n",
      "/var/folders/hc/4mqkc4fd32b8c4bvg069yxrc0000gn/T/ipykernel_20639/1013384723.py:2: SettingWithCopyWarning: \n",
      "A value is trying to be set on a copy of a slice from a DataFrame.\n",
      "Try using .loc[row_indexer,col_indexer] = value instead\n",
      "\n",
      "See the caveats in the documentation: https://pandas.pydata.org/pandas-docs/stable/user_guide/indexing.html#returning-a-view-versus-a-copy\n",
      "  clean_animes[\"Genre: \" + genre] = genre_dummies.loc[:, genre_dummies.columns.str.endswith(genre)].sum(axis=1)\n",
      "/var/folders/hc/4mqkc4fd32b8c4bvg069yxrc0000gn/T/ipykernel_20639/1013384723.py:2: SettingWithCopyWarning: \n",
      "A value is trying to be set on a copy of a slice from a DataFrame.\n",
      "Try using .loc[row_indexer,col_indexer] = value instead\n",
      "\n",
      "See the caveats in the documentation: https://pandas.pydata.org/pandas-docs/stable/user_guide/indexing.html#returning-a-view-versus-a-copy\n",
      "  clean_animes[\"Genre: \" + genre] = genre_dummies.loc[:, genre_dummies.columns.str.endswith(genre)].sum(axis=1)\n",
      "/var/folders/hc/4mqkc4fd32b8c4bvg069yxrc0000gn/T/ipykernel_20639/1013384723.py:2: SettingWithCopyWarning: \n",
      "A value is trying to be set on a copy of a slice from a DataFrame.\n",
      "Try using .loc[row_indexer,col_indexer] = value instead\n",
      "\n",
      "See the caveats in the documentation: https://pandas.pydata.org/pandas-docs/stable/user_guide/indexing.html#returning-a-view-versus-a-copy\n",
      "  clean_animes[\"Genre: \" + genre] = genre_dummies.loc[:, genre_dummies.columns.str.endswith(genre)].sum(axis=1)\n",
      "/var/folders/hc/4mqkc4fd32b8c4bvg069yxrc0000gn/T/ipykernel_20639/1013384723.py:2: SettingWithCopyWarning: \n",
      "A value is trying to be set on a copy of a slice from a DataFrame.\n",
      "Try using .loc[row_indexer,col_indexer] = value instead\n",
      "\n",
      "See the caveats in the documentation: https://pandas.pydata.org/pandas-docs/stable/user_guide/indexing.html#returning-a-view-versus-a-copy\n",
      "  clean_animes[\"Genre: \" + genre] = genre_dummies.loc[:, genre_dummies.columns.str.endswith(genre)].sum(axis=1)\n",
      "/var/folders/hc/4mqkc4fd32b8c4bvg069yxrc0000gn/T/ipykernel_20639/1013384723.py:2: SettingWithCopyWarning: \n",
      "A value is trying to be set on a copy of a slice from a DataFrame.\n",
      "Try using .loc[row_indexer,col_indexer] = value instead\n",
      "\n",
      "See the caveats in the documentation: https://pandas.pydata.org/pandas-docs/stable/user_guide/indexing.html#returning-a-view-versus-a-copy\n",
      "  clean_animes[\"Genre: \" + genre] = genre_dummies.loc[:, genre_dummies.columns.str.endswith(genre)].sum(axis=1)\n",
      "/var/folders/hc/4mqkc4fd32b8c4bvg069yxrc0000gn/T/ipykernel_20639/1013384723.py:2: SettingWithCopyWarning: \n",
      "A value is trying to be set on a copy of a slice from a DataFrame.\n",
      "Try using .loc[row_indexer,col_indexer] = value instead\n",
      "\n",
      "See the caveats in the documentation: https://pandas.pydata.org/pandas-docs/stable/user_guide/indexing.html#returning-a-view-versus-a-copy\n",
      "  clean_animes[\"Genre: \" + genre] = genre_dummies.loc[:, genre_dummies.columns.str.endswith(genre)].sum(axis=1)\n",
      "/var/folders/hc/4mqkc4fd32b8c4bvg069yxrc0000gn/T/ipykernel_20639/1013384723.py:2: SettingWithCopyWarning: \n",
      "A value is trying to be set on a copy of a slice from a DataFrame.\n",
      "Try using .loc[row_indexer,col_indexer] = value instead\n",
      "\n",
      "See the caveats in the documentation: https://pandas.pydata.org/pandas-docs/stable/user_guide/indexing.html#returning-a-view-versus-a-copy\n",
      "  clean_animes[\"Genre: \" + genre] = genre_dummies.loc[:, genre_dummies.columns.str.endswith(genre)].sum(axis=1)\n",
      "/var/folders/hc/4mqkc4fd32b8c4bvg069yxrc0000gn/T/ipykernel_20639/1013384723.py:2: SettingWithCopyWarning: \n",
      "A value is trying to be set on a copy of a slice from a DataFrame.\n",
      "Try using .loc[row_indexer,col_indexer] = value instead\n",
      "\n",
      "See the caveats in the documentation: https://pandas.pydata.org/pandas-docs/stable/user_guide/indexing.html#returning-a-view-versus-a-copy\n",
      "  clean_animes[\"Genre: \" + genre] = genre_dummies.loc[:, genre_dummies.columns.str.endswith(genre)].sum(axis=1)\n",
      "/var/folders/hc/4mqkc4fd32b8c4bvg069yxrc0000gn/T/ipykernel_20639/1013384723.py:2: SettingWithCopyWarning: \n",
      "A value is trying to be set on a copy of a slice from a DataFrame.\n",
      "Try using .loc[row_indexer,col_indexer] = value instead\n",
      "\n",
      "See the caveats in the documentation: https://pandas.pydata.org/pandas-docs/stable/user_guide/indexing.html#returning-a-view-versus-a-copy\n",
      "  clean_animes[\"Genre: \" + genre] = genre_dummies.loc[:, genre_dummies.columns.str.endswith(genre)].sum(axis=1)\n",
      "/var/folders/hc/4mqkc4fd32b8c4bvg069yxrc0000gn/T/ipykernel_20639/1013384723.py:2: SettingWithCopyWarning: \n",
      "A value is trying to be set on a copy of a slice from a DataFrame.\n",
      "Try using .loc[row_indexer,col_indexer] = value instead\n",
      "\n",
      "See the caveats in the documentation: https://pandas.pydata.org/pandas-docs/stable/user_guide/indexing.html#returning-a-view-versus-a-copy\n",
      "  clean_animes[\"Genre: \" + genre] = genre_dummies.loc[:, genre_dummies.columns.str.endswith(genre)].sum(axis=1)\n",
      "/var/folders/hc/4mqkc4fd32b8c4bvg069yxrc0000gn/T/ipykernel_20639/1013384723.py:2: SettingWithCopyWarning: \n",
      "A value is trying to be set on a copy of a slice from a DataFrame.\n",
      "Try using .loc[row_indexer,col_indexer] = value instead\n",
      "\n",
      "See the caveats in the documentation: https://pandas.pydata.org/pandas-docs/stable/user_guide/indexing.html#returning-a-view-versus-a-copy\n",
      "  clean_animes[\"Genre: \" + genre] = genre_dummies.loc[:, genre_dummies.columns.str.endswith(genre)].sum(axis=1)\n",
      "/var/folders/hc/4mqkc4fd32b8c4bvg069yxrc0000gn/T/ipykernel_20639/1013384723.py:2: SettingWithCopyWarning: \n",
      "A value is trying to be set on a copy of a slice from a DataFrame.\n",
      "Try using .loc[row_indexer,col_indexer] = value instead\n",
      "\n",
      "See the caveats in the documentation: https://pandas.pydata.org/pandas-docs/stable/user_guide/indexing.html#returning-a-view-versus-a-copy\n",
      "  clean_animes[\"Genre: \" + genre] = genre_dummies.loc[:, genre_dummies.columns.str.endswith(genre)].sum(axis=1)\n",
      "/var/folders/hc/4mqkc4fd32b8c4bvg069yxrc0000gn/T/ipykernel_20639/1013384723.py:2: SettingWithCopyWarning: \n",
      "A value is trying to be set on a copy of a slice from a DataFrame.\n",
      "Try using .loc[row_indexer,col_indexer] = value instead\n",
      "\n",
      "See the caveats in the documentation: https://pandas.pydata.org/pandas-docs/stable/user_guide/indexing.html#returning-a-view-versus-a-copy\n",
      "  clean_animes[\"Genre: \" + genre] = genre_dummies.loc[:, genre_dummies.columns.str.endswith(genre)].sum(axis=1)\n",
      "/var/folders/hc/4mqkc4fd32b8c4bvg069yxrc0000gn/T/ipykernel_20639/1013384723.py:2: SettingWithCopyWarning: \n",
      "A value is trying to be set on a copy of a slice from a DataFrame.\n",
      "Try using .loc[row_indexer,col_indexer] = value instead\n",
      "\n",
      "See the caveats in the documentation: https://pandas.pydata.org/pandas-docs/stable/user_guide/indexing.html#returning-a-view-versus-a-copy\n",
      "  clean_animes[\"Genre: \" + genre] = genre_dummies.loc[:, genre_dummies.columns.str.endswith(genre)].sum(axis=1)\n",
      "/var/folders/hc/4mqkc4fd32b8c4bvg069yxrc0000gn/T/ipykernel_20639/1013384723.py:2: SettingWithCopyWarning: \n",
      "A value is trying to be set on a copy of a slice from a DataFrame.\n",
      "Try using .loc[row_indexer,col_indexer] = value instead\n",
      "\n",
      "See the caveats in the documentation: https://pandas.pydata.org/pandas-docs/stable/user_guide/indexing.html#returning-a-view-versus-a-copy\n",
      "  clean_animes[\"Genre: \" + genre] = genre_dummies.loc[:, genre_dummies.columns.str.endswith(genre)].sum(axis=1)\n",
      "/var/folders/hc/4mqkc4fd32b8c4bvg069yxrc0000gn/T/ipykernel_20639/1013384723.py:2: SettingWithCopyWarning: \n",
      "A value is trying to be set on a copy of a slice from a DataFrame.\n",
      "Try using .loc[row_indexer,col_indexer] = value instead\n",
      "\n",
      "See the caveats in the documentation: https://pandas.pydata.org/pandas-docs/stable/user_guide/indexing.html#returning-a-view-versus-a-copy\n",
      "  clean_animes[\"Genre: \" + genre] = genre_dummies.loc[:, genre_dummies.columns.str.endswith(genre)].sum(axis=1)\n",
      "/var/folders/hc/4mqkc4fd32b8c4bvg069yxrc0000gn/T/ipykernel_20639/1013384723.py:2: SettingWithCopyWarning: \n",
      "A value is trying to be set on a copy of a slice from a DataFrame.\n",
      "Try using .loc[row_indexer,col_indexer] = value instead\n",
      "\n",
      "See the caveats in the documentation: https://pandas.pydata.org/pandas-docs/stable/user_guide/indexing.html#returning-a-view-versus-a-copy\n",
      "  clean_animes[\"Genre: \" + genre] = genre_dummies.loc[:, genre_dummies.columns.str.endswith(genre)].sum(axis=1)\n",
      "/var/folders/hc/4mqkc4fd32b8c4bvg069yxrc0000gn/T/ipykernel_20639/1013384723.py:2: SettingWithCopyWarning: \n",
      "A value is trying to be set on a copy of a slice from a DataFrame.\n",
      "Try using .loc[row_indexer,col_indexer] = value instead\n",
      "\n",
      "See the caveats in the documentation: https://pandas.pydata.org/pandas-docs/stable/user_guide/indexing.html#returning-a-view-versus-a-copy\n",
      "  clean_animes[\"Genre: \" + genre] = genre_dummies.loc[:, genre_dummies.columns.str.endswith(genre)].sum(axis=1)\n",
      "/var/folders/hc/4mqkc4fd32b8c4bvg069yxrc0000gn/T/ipykernel_20639/1013384723.py:2: SettingWithCopyWarning: \n",
      "A value is trying to be set on a copy of a slice from a DataFrame.\n",
      "Try using .loc[row_indexer,col_indexer] = value instead\n",
      "\n",
      "See the caveats in the documentation: https://pandas.pydata.org/pandas-docs/stable/user_guide/indexing.html#returning-a-view-versus-a-copy\n",
      "  clean_animes[\"Genre: \" + genre] = genre_dummies.loc[:, genre_dummies.columns.str.endswith(genre)].sum(axis=1)\n",
      "/var/folders/hc/4mqkc4fd32b8c4bvg069yxrc0000gn/T/ipykernel_20639/1013384723.py:2: SettingWithCopyWarning: \n",
      "A value is trying to be set on a copy of a slice from a DataFrame.\n",
      "Try using .loc[row_indexer,col_indexer] = value instead\n",
      "\n",
      "See the caveats in the documentation: https://pandas.pydata.org/pandas-docs/stable/user_guide/indexing.html#returning-a-view-versus-a-copy\n",
      "  clean_animes[\"Genre: \" + genre] = genre_dummies.loc[:, genre_dummies.columns.str.endswith(genre)].sum(axis=1)\n",
      "/var/folders/hc/4mqkc4fd32b8c4bvg069yxrc0000gn/T/ipykernel_20639/1013384723.py:2: SettingWithCopyWarning: \n",
      "A value is trying to be set on a copy of a slice from a DataFrame.\n",
      "Try using .loc[row_indexer,col_indexer] = value instead\n",
      "\n",
      "See the caveats in the documentation: https://pandas.pydata.org/pandas-docs/stable/user_guide/indexing.html#returning-a-view-versus-a-copy\n",
      "  clean_animes[\"Genre: \" + genre] = genre_dummies.loc[:, genre_dummies.columns.str.endswith(genre)].sum(axis=1)\n",
      "/var/folders/hc/4mqkc4fd32b8c4bvg069yxrc0000gn/T/ipykernel_20639/1013384723.py:2: SettingWithCopyWarning: \n",
      "A value is trying to be set on a copy of a slice from a DataFrame.\n",
      "Try using .loc[row_indexer,col_indexer] = value instead\n",
      "\n",
      "See the caveats in the documentation: https://pandas.pydata.org/pandas-docs/stable/user_guide/indexing.html#returning-a-view-versus-a-copy\n",
      "  clean_animes[\"Genre: \" + genre] = genre_dummies.loc[:, genre_dummies.columns.str.endswith(genre)].sum(axis=1)\n",
      "/var/folders/hc/4mqkc4fd32b8c4bvg069yxrc0000gn/T/ipykernel_20639/1013384723.py:2: SettingWithCopyWarning: \n",
      "A value is trying to be set on a copy of a slice from a DataFrame.\n",
      "Try using .loc[row_indexer,col_indexer] = value instead\n",
      "\n",
      "See the caveats in the documentation: https://pandas.pydata.org/pandas-docs/stable/user_guide/indexing.html#returning-a-view-versus-a-copy\n",
      "  clean_animes[\"Genre: \" + genre] = genre_dummies.loc[:, genre_dummies.columns.str.endswith(genre)].sum(axis=1)\n",
      "/var/folders/hc/4mqkc4fd32b8c4bvg069yxrc0000gn/T/ipykernel_20639/1013384723.py:2: SettingWithCopyWarning: \n",
      "A value is trying to be set on a copy of a slice from a DataFrame.\n",
      "Try using .loc[row_indexer,col_indexer] = value instead\n",
      "\n",
      "See the caveats in the documentation: https://pandas.pydata.org/pandas-docs/stable/user_guide/indexing.html#returning-a-view-versus-a-copy\n",
      "  clean_animes[\"Genre: \" + genre] = genre_dummies.loc[:, genre_dummies.columns.str.endswith(genre)].sum(axis=1)\n",
      "/var/folders/hc/4mqkc4fd32b8c4bvg069yxrc0000gn/T/ipykernel_20639/1013384723.py:2: SettingWithCopyWarning: \n",
      "A value is trying to be set on a copy of a slice from a DataFrame.\n",
      "Try using .loc[row_indexer,col_indexer] = value instead\n",
      "\n",
      "See the caveats in the documentation: https://pandas.pydata.org/pandas-docs/stable/user_guide/indexing.html#returning-a-view-versus-a-copy\n",
      "  clean_animes[\"Genre: \" + genre] = genre_dummies.loc[:, genre_dummies.columns.str.endswith(genre)].sum(axis=1)\n",
      "/var/folders/hc/4mqkc4fd32b8c4bvg069yxrc0000gn/T/ipykernel_20639/1013384723.py:2: SettingWithCopyWarning: \n",
      "A value is trying to be set on a copy of a slice from a DataFrame.\n",
      "Try using .loc[row_indexer,col_indexer] = value instead\n",
      "\n",
      "See the caveats in the documentation: https://pandas.pydata.org/pandas-docs/stable/user_guide/indexing.html#returning-a-view-versus-a-copy\n",
      "  clean_animes[\"Genre: \" + genre] = genre_dummies.loc[:, genre_dummies.columns.str.endswith(genre)].sum(axis=1)\n",
      "/var/folders/hc/4mqkc4fd32b8c4bvg069yxrc0000gn/T/ipykernel_20639/1013384723.py:2: SettingWithCopyWarning: \n",
      "A value is trying to be set on a copy of a slice from a DataFrame.\n",
      "Try using .loc[row_indexer,col_indexer] = value instead\n",
      "\n",
      "See the caveats in the documentation: https://pandas.pydata.org/pandas-docs/stable/user_guide/indexing.html#returning-a-view-versus-a-copy\n",
      "  clean_animes[\"Genre: \" + genre] = genre_dummies.loc[:, genre_dummies.columns.str.endswith(genre)].sum(axis=1)\n",
      "/var/folders/hc/4mqkc4fd32b8c4bvg069yxrc0000gn/T/ipykernel_20639/1013384723.py:2: SettingWithCopyWarning: \n",
      "A value is trying to be set on a copy of a slice from a DataFrame.\n",
      "Try using .loc[row_indexer,col_indexer] = value instead\n",
      "\n",
      "See the caveats in the documentation: https://pandas.pydata.org/pandas-docs/stable/user_guide/indexing.html#returning-a-view-versus-a-copy\n",
      "  clean_animes[\"Genre: \" + genre] = genre_dummies.loc[:, genre_dummies.columns.str.endswith(genre)].sum(axis=1)\n",
      "/var/folders/hc/4mqkc4fd32b8c4bvg069yxrc0000gn/T/ipykernel_20639/1013384723.py:2: SettingWithCopyWarning: \n",
      "A value is trying to be set on a copy of a slice from a DataFrame.\n",
      "Try using .loc[row_indexer,col_indexer] = value instead\n",
      "\n",
      "See the caveats in the documentation: https://pandas.pydata.org/pandas-docs/stable/user_guide/indexing.html#returning-a-view-versus-a-copy\n",
      "  clean_animes[\"Genre: \" + genre] = genre_dummies.loc[:, genre_dummies.columns.str.endswith(genre)].sum(axis=1)\n",
      "/var/folders/hc/4mqkc4fd32b8c4bvg069yxrc0000gn/T/ipykernel_20639/1013384723.py:2: SettingWithCopyWarning: \n",
      "A value is trying to be set on a copy of a slice from a DataFrame.\n",
      "Try using .loc[row_indexer,col_indexer] = value instead\n",
      "\n",
      "See the caveats in the documentation: https://pandas.pydata.org/pandas-docs/stable/user_guide/indexing.html#returning-a-view-versus-a-copy\n",
      "  clean_animes[\"Genre: \" + genre] = genre_dummies.loc[:, genre_dummies.columns.str.endswith(genre)].sum(axis=1)\n",
      "/var/folders/hc/4mqkc4fd32b8c4bvg069yxrc0000gn/T/ipykernel_20639/1013384723.py:2: SettingWithCopyWarning: \n",
      "A value is trying to be set on a copy of a slice from a DataFrame.\n",
      "Try using .loc[row_indexer,col_indexer] = value instead\n",
      "\n",
      "See the caveats in the documentation: https://pandas.pydata.org/pandas-docs/stable/user_guide/indexing.html#returning-a-view-versus-a-copy\n",
      "  clean_animes[\"Genre: \" + genre] = genre_dummies.loc[:, genre_dummies.columns.str.endswith(genre)].sum(axis=1)\n",
      "/var/folders/hc/4mqkc4fd32b8c4bvg069yxrc0000gn/T/ipykernel_20639/1013384723.py:2: SettingWithCopyWarning: \n",
      "A value is trying to be set on a copy of a slice from a DataFrame.\n",
      "Try using .loc[row_indexer,col_indexer] = value instead\n",
      "\n",
      "See the caveats in the documentation: https://pandas.pydata.org/pandas-docs/stable/user_guide/indexing.html#returning-a-view-versus-a-copy\n",
      "  clean_animes[\"Genre: \" + genre] = genre_dummies.loc[:, genre_dummies.columns.str.endswith(genre)].sum(axis=1)\n"
     ]
    }
   ],
   "source": [
    "for genre in unique_genres:\n",
    "    clean_animes[\"Genre: \" + genre] = genre_dummies.loc[:, genre_dummies.columns.str.endswith(genre)].sum(axis=1)\n",
    "clean_animes.shape\n",
    "clean_animes.info()"
   ]
  },
  {
   "cell_type": "code",
   "execution_count": 12,
   "metadata": {
    "colab": {
     "base_uri": "https://localhost:8080/",
     "height": 206
    },
    "executionInfo": {
     "elapsed": 298,
     "status": "ok",
     "timestamp": 1641765463066,
     "user": {
      "displayName": "Harun Selman Karakaş",
      "photoUrl": "https://lh3.googleusercontent.com/a/default-user=s64",
      "userId": "07267645695106018309"
     },
     "user_tz": -180
    },
    "id": "qGSKGaoGrIDd",
    "outputId": "91b62aeb-81fd-42cb-d2f6-8093b26625f2"
   },
   "outputs": [
    {
     "data": {
      "text/html": [
       "<div>\n",
       "<style scoped>\n",
       "    .dataframe tbody tr th:only-of-type {\n",
       "        vertical-align: middle;\n",
       "    }\n",
       "\n",
       "    .dataframe tbody tr th {\n",
       "        vertical-align: top;\n",
       "    }\n",
       "\n",
       "    .dataframe thead th {\n",
       "        text-align: right;\n",
       "    }\n",
       "</style>\n",
       "<table border=\"1\" class=\"dataframe\">\n",
       "  <thead>\n",
       "    <tr style=\"text-align: right;\">\n",
       "      <th></th>\n",
       "      <th>Type: Movie</th>\n",
       "      <th>Type: Music</th>\n",
       "      <th>Type: ONA</th>\n",
       "      <th>Type: OVA</th>\n",
       "      <th>Type: Special</th>\n",
       "      <th>Type: TV</th>\n",
       "    </tr>\n",
       "  </thead>\n",
       "  <tbody>\n",
       "    <tr>\n",
       "      <th>0</th>\n",
       "      <td>1</td>\n",
       "      <td>0</td>\n",
       "      <td>0</td>\n",
       "      <td>0</td>\n",
       "      <td>0</td>\n",
       "      <td>0</td>\n",
       "    </tr>\n",
       "    <tr>\n",
       "      <th>1</th>\n",
       "      <td>0</td>\n",
       "      <td>0</td>\n",
       "      <td>0</td>\n",
       "      <td>0</td>\n",
       "      <td>0</td>\n",
       "      <td>1</td>\n",
       "    </tr>\n",
       "    <tr>\n",
       "      <th>2</th>\n",
       "      <td>0</td>\n",
       "      <td>0</td>\n",
       "      <td>0</td>\n",
       "      <td>0</td>\n",
       "      <td>0</td>\n",
       "      <td>1</td>\n",
       "    </tr>\n",
       "    <tr>\n",
       "      <th>3</th>\n",
       "      <td>0</td>\n",
       "      <td>0</td>\n",
       "      <td>0</td>\n",
       "      <td>0</td>\n",
       "      <td>0</td>\n",
       "      <td>1</td>\n",
       "    </tr>\n",
       "    <tr>\n",
       "      <th>4</th>\n",
       "      <td>0</td>\n",
       "      <td>0</td>\n",
       "      <td>0</td>\n",
       "      <td>0</td>\n",
       "      <td>0</td>\n",
       "      <td>1</td>\n",
       "    </tr>\n",
       "  </tbody>\n",
       "</table>\n",
       "</div>"
      ],
      "text/plain": [
       "   Type: Movie  Type: Music  Type: ONA  Type: OVA  Type: Special  Type: TV\n",
       "0            1            0          0          0              0         0\n",
       "1            0            0          0          0              0         1\n",
       "2            0            0          0          0              0         1\n",
       "3            0            0          0          0              0         1\n",
       "4            0            0          0          0              0         1"
      ]
     },
     "execution_count": 12,
     "metadata": {},
     "output_type": "execute_result"
    }
   ],
   "source": [
    "type_dummies = pd.get_dummies(clean_animes.type, prefix=\"Type:\", prefix_sep=\" \")\n",
    "type_dummies.head()"
   ]
  },
  {
   "cell_type": "code",
   "execution_count": 13,
   "metadata": {
    "colab": {
     "base_uri": "https://localhost:8080/",
     "height": 322
    },
    "executionInfo": {
     "elapsed": 6,
     "status": "ok",
     "timestamp": 1641765463786,
     "user": {
      "displayName": "Harun Selman Karakaş",
      "photoUrl": "https://lh3.googleusercontent.com/a/default-user=s64",
      "userId": "07267645695106018309"
     },
     "user_tz": -180
    },
    "id": "may57qwRrR0-",
    "outputId": "063f1db3-901c-49b7-b406-0881bd892f36"
   },
   "outputs": [
    {
     "data": {
      "text/html": [
       "<div>\n",
       "<style scoped>\n",
       "    .dataframe tbody tr th:only-of-type {\n",
       "        vertical-align: middle;\n",
       "    }\n",
       "\n",
       "    .dataframe tbody tr th {\n",
       "        vertical-align: top;\n",
       "    }\n",
       "\n",
       "    .dataframe thead th {\n",
       "        text-align: right;\n",
       "    }\n",
       "</style>\n",
       "<table border=\"1\" class=\"dataframe\">\n",
       "  <thead>\n",
       "    <tr style=\"text-align: right;\">\n",
       "      <th></th>\n",
       "      <th>Genre: Drama</th>\n",
       "      <th>Genre: Action</th>\n",
       "      <th>Genre: Sci-Fi</th>\n",
       "      <th>Genre: Comedy</th>\n",
       "      <th>Genre: Adventure</th>\n",
       "      <th>Genre: Fantasy</th>\n",
       "      <th>Genre: Mystery</th>\n",
       "      <th>Genre: Psychological</th>\n",
       "      <th>Genre: Ecchi</th>\n",
       "      <th>Genre: Josei</th>\n",
       "      <th>...</th>\n",
       "      <th>Genre: Yaoi</th>\n",
       "      <th>Genre: Shoujo Ai</th>\n",
       "      <th>Genre: Shounen Ai</th>\n",
       "      <th>Genre: Yuri</th>\n",
       "      <th>Type: Movie</th>\n",
       "      <th>Type: Music</th>\n",
       "      <th>Type: ONA</th>\n",
       "      <th>Type: OVA</th>\n",
       "      <th>Type: Special</th>\n",
       "      <th>Type: TV</th>\n",
       "    </tr>\n",
       "  </thead>\n",
       "  <tbody>\n",
       "    <tr>\n",
       "      <th>0</th>\n",
       "      <td>1</td>\n",
       "      <td>0</td>\n",
       "      <td>0</td>\n",
       "      <td>0</td>\n",
       "      <td>0</td>\n",
       "      <td>0</td>\n",
       "      <td>0</td>\n",
       "      <td>0</td>\n",
       "      <td>0</td>\n",
       "      <td>0</td>\n",
       "      <td>...</td>\n",
       "      <td>0</td>\n",
       "      <td>0</td>\n",
       "      <td>0</td>\n",
       "      <td>0</td>\n",
       "      <td>1</td>\n",
       "      <td>0</td>\n",
       "      <td>0</td>\n",
       "      <td>0</td>\n",
       "      <td>0</td>\n",
       "      <td>0</td>\n",
       "    </tr>\n",
       "    <tr>\n",
       "      <th>1</th>\n",
       "      <td>1</td>\n",
       "      <td>1</td>\n",
       "      <td>0</td>\n",
       "      <td>0</td>\n",
       "      <td>1</td>\n",
       "      <td>1</td>\n",
       "      <td>0</td>\n",
       "      <td>0</td>\n",
       "      <td>0</td>\n",
       "      <td>0</td>\n",
       "      <td>...</td>\n",
       "      <td>0</td>\n",
       "      <td>0</td>\n",
       "      <td>0</td>\n",
       "      <td>0</td>\n",
       "      <td>0</td>\n",
       "      <td>0</td>\n",
       "      <td>0</td>\n",
       "      <td>0</td>\n",
       "      <td>0</td>\n",
       "      <td>1</td>\n",
       "    </tr>\n",
       "    <tr>\n",
       "      <th>2</th>\n",
       "      <td>0</td>\n",
       "      <td>1</td>\n",
       "      <td>1</td>\n",
       "      <td>1</td>\n",
       "      <td>0</td>\n",
       "      <td>0</td>\n",
       "      <td>0</td>\n",
       "      <td>0</td>\n",
       "      <td>0</td>\n",
       "      <td>0</td>\n",
       "      <td>...</td>\n",
       "      <td>0</td>\n",
       "      <td>0</td>\n",
       "      <td>0</td>\n",
       "      <td>0</td>\n",
       "      <td>0</td>\n",
       "      <td>0</td>\n",
       "      <td>0</td>\n",
       "      <td>0</td>\n",
       "      <td>0</td>\n",
       "      <td>1</td>\n",
       "    </tr>\n",
       "    <tr>\n",
       "      <th>3</th>\n",
       "      <td>0</td>\n",
       "      <td>0</td>\n",
       "      <td>1</td>\n",
       "      <td>0</td>\n",
       "      <td>0</td>\n",
       "      <td>0</td>\n",
       "      <td>0</td>\n",
       "      <td>0</td>\n",
       "      <td>0</td>\n",
       "      <td>0</td>\n",
       "      <td>...</td>\n",
       "      <td>0</td>\n",
       "      <td>0</td>\n",
       "      <td>0</td>\n",
       "      <td>0</td>\n",
       "      <td>0</td>\n",
       "      <td>0</td>\n",
       "      <td>0</td>\n",
       "      <td>0</td>\n",
       "      <td>0</td>\n",
       "      <td>1</td>\n",
       "    </tr>\n",
       "    <tr>\n",
       "      <th>4</th>\n",
       "      <td>0</td>\n",
       "      <td>1</td>\n",
       "      <td>1</td>\n",
       "      <td>1</td>\n",
       "      <td>0</td>\n",
       "      <td>0</td>\n",
       "      <td>0</td>\n",
       "      <td>0</td>\n",
       "      <td>0</td>\n",
       "      <td>0</td>\n",
       "      <td>...</td>\n",
       "      <td>0</td>\n",
       "      <td>0</td>\n",
       "      <td>0</td>\n",
       "      <td>0</td>\n",
       "      <td>0</td>\n",
       "      <td>0</td>\n",
       "      <td>0</td>\n",
       "      <td>0</td>\n",
       "      <td>0</td>\n",
       "      <td>1</td>\n",
       "    </tr>\n",
       "  </tbody>\n",
       "</table>\n",
       "<p>5 rows × 49 columns</p>\n",
       "</div>"
      ],
      "text/plain": [
       "   Genre: Drama  Genre: Action  Genre: Sci-Fi  Genre: Comedy  \\\n",
       "0             1              0              0              0   \n",
       "1             1              1              0              0   \n",
       "2             0              1              1              1   \n",
       "3             0              0              1              0   \n",
       "4             0              1              1              1   \n",
       "\n",
       "   Genre: Adventure  Genre: Fantasy  Genre: Mystery  Genre: Psychological  \\\n",
       "0                 0               0               0                     0   \n",
       "1                 1               1               0                     0   \n",
       "2                 0               0               0                     0   \n",
       "3                 0               0               0                     0   \n",
       "4                 0               0               0                     0   \n",
       "\n",
       "   Genre: Ecchi  Genre: Josei  ...  Genre: Yaoi  Genre: Shoujo Ai  \\\n",
       "0             0             0  ...            0                 0   \n",
       "1             0             0  ...            0                 0   \n",
       "2             0             0  ...            0                 0   \n",
       "3             0             0  ...            0                 0   \n",
       "4             0             0  ...            0                 0   \n",
       "\n",
       "   Genre: Shounen Ai  Genre: Yuri  Type: Movie  Type: Music  Type: ONA  \\\n",
       "0                  0            0            1            0          0   \n",
       "1                  0            0            0            0          0   \n",
       "2                  0            0            0            0          0   \n",
       "3                  0            0            0            0          0   \n",
       "4                  0            0            0            0          0   \n",
       "\n",
       "   Type: OVA  Type: Special  Type: TV  \n",
       "0          0              0         0  \n",
       "1          0              0         1  \n",
       "2          0              0         1  \n",
       "3          0              0         1  \n",
       "4          0              0         1  \n",
       "\n",
       "[5 rows x 49 columns]"
      ]
     },
     "execution_count": 13,
     "metadata": {},
     "output_type": "execute_result"
    }
   ],
   "source": [
    "clean_animes = pd.concat([clean_animes, type_dummies], axis=1)\n",
    "clean_animes = clean_animes.drop(columns=[\"anime_id\", \"name\", \"type\", \"genre\", \"episodes\", \"rating\", \"members\"])\n",
    "clean_animes.head()"
   ]
  },
  {
   "cell_type": "code",
   "execution_count": 14,
   "metadata": {
    "colab": {
     "base_uri": "https://localhost:8080/"
    },
    "executionInfo": {
     "elapsed": 668,
     "status": "ok",
     "timestamp": 1641765466081,
     "user": {
      "displayName": "Harun Selman Karakaş",
      "photoUrl": "https://lh3.googleusercontent.com/a/default-user=s64",
      "userId": "07267645695106018309"
     },
     "user_tz": -180
    },
    "id": "fT3N06LumG4c",
    "outputId": "802af345-75d7-4fdd-e6a9-a9befeb36514"
   },
   "outputs": [
    {
     "data": {
      "text/html": [
       "<style>#sk-container-id-1 {color: black;background-color: white;}#sk-container-id-1 pre{padding: 0;}#sk-container-id-1 div.sk-toggleable {background-color: white;}#sk-container-id-1 label.sk-toggleable__label {cursor: pointer;display: block;width: 100%;margin-bottom: 0;padding: 0.3em;box-sizing: border-box;text-align: center;}#sk-container-id-1 label.sk-toggleable__label-arrow:before {content: \"▸\";float: left;margin-right: 0.25em;color: #696969;}#sk-container-id-1 label.sk-toggleable__label-arrow:hover:before {color: black;}#sk-container-id-1 div.sk-estimator:hover label.sk-toggleable__label-arrow:before {color: black;}#sk-container-id-1 div.sk-toggleable__content {max-height: 0;max-width: 0;overflow: hidden;text-align: left;background-color: #f0f8ff;}#sk-container-id-1 div.sk-toggleable__content pre {margin: 0.2em;color: black;border-radius: 0.25em;background-color: #f0f8ff;}#sk-container-id-1 input.sk-toggleable__control:checked~div.sk-toggleable__content {max-height: 200px;max-width: 100%;overflow: auto;}#sk-container-id-1 input.sk-toggleable__control:checked~label.sk-toggleable__label-arrow:before {content: \"▾\";}#sk-container-id-1 div.sk-estimator input.sk-toggleable__control:checked~label.sk-toggleable__label {background-color: #d4ebff;}#sk-container-id-1 div.sk-label input.sk-toggleable__control:checked~label.sk-toggleable__label {background-color: #d4ebff;}#sk-container-id-1 input.sk-hidden--visually {border: 0;clip: rect(1px 1px 1px 1px);clip: rect(1px, 1px, 1px, 1px);height: 1px;margin: -1px;overflow: hidden;padding: 0;position: absolute;width: 1px;}#sk-container-id-1 div.sk-estimator {font-family: monospace;background-color: #f0f8ff;border: 1px dotted black;border-radius: 0.25em;box-sizing: border-box;margin-bottom: 0.5em;}#sk-container-id-1 div.sk-estimator:hover {background-color: #d4ebff;}#sk-container-id-1 div.sk-parallel-item::after {content: \"\";width: 100%;border-bottom: 1px solid gray;flex-grow: 1;}#sk-container-id-1 div.sk-label:hover label.sk-toggleable__label {background-color: #d4ebff;}#sk-container-id-1 div.sk-serial::before {content: \"\";position: absolute;border-left: 1px solid gray;box-sizing: border-box;top: 0;bottom: 0;left: 50%;z-index: 0;}#sk-container-id-1 div.sk-serial {display: flex;flex-direction: column;align-items: center;background-color: white;padding-right: 0.2em;padding-left: 0.2em;position: relative;}#sk-container-id-1 div.sk-item {position: relative;z-index: 1;}#sk-container-id-1 div.sk-parallel {display: flex;align-items: stretch;justify-content: center;background-color: white;position: relative;}#sk-container-id-1 div.sk-item::before, #sk-container-id-1 div.sk-parallel-item::before {content: \"\";position: absolute;border-left: 1px solid gray;box-sizing: border-box;top: 0;bottom: 0;left: 50%;z-index: -1;}#sk-container-id-1 div.sk-parallel-item {display: flex;flex-direction: column;z-index: 1;position: relative;background-color: white;}#sk-container-id-1 div.sk-parallel-item:first-child::after {align-self: flex-end;width: 50%;}#sk-container-id-1 div.sk-parallel-item:last-child::after {align-self: flex-start;width: 50%;}#sk-container-id-1 div.sk-parallel-item:only-child::after {width: 0;}#sk-container-id-1 div.sk-dashed-wrapped {border: 1px dashed gray;margin: 0 0.4em 0.5em 0.4em;box-sizing: border-box;padding-bottom: 0.4em;background-color: white;}#sk-container-id-1 div.sk-label label {font-family: monospace;font-weight: bold;display: inline-block;line-height: 1.2em;}#sk-container-id-1 div.sk-label-container {text-align: center;}#sk-container-id-1 div.sk-container {/* jupyter's `normalize.less` sets `[hidden] { display: none; }` but bootstrap.min.css set `[hidden] { display: none !important; }` so we also need the `!important` here to be able to override the default hidden behavior on the sphinx rendered scikit-learn.org. See: https://github.com/scikit-learn/scikit-learn/issues/21755 */display: inline-block !important;position: relative;}#sk-container-id-1 div.sk-text-repr-fallback {display: none;}</style><div id=\"sk-container-id-1\" class=\"sk-top-container\"><div class=\"sk-text-repr-fallback\"><pre>NearestNeighbors()</pre><b>In a Jupyter environment, please rerun this cell to show the HTML representation or trust the notebook. <br />On GitHub, the HTML representation is unable to render, please try loading this page with nbviewer.org.</b></div><div class=\"sk-container\" hidden><div class=\"sk-item\"><div class=\"sk-estimator sk-toggleable\"><input class=\"sk-toggleable__control sk-hidden--visually\" id=\"sk-estimator-id-1\" type=\"checkbox\" checked><label for=\"sk-estimator-id-1\" class=\"sk-toggleable__label sk-toggleable__label-arrow\">NearestNeighbors</label><div class=\"sk-toggleable__content\"><pre>NearestNeighbors()</pre></div></div></div></div></div>"
      ],
      "text/plain": [
       "NearestNeighbors()"
      ]
     },
     "execution_count": 14,
     "metadata": {},
     "output_type": "execute_result"
    }
   ],
   "source": [
    "from sklearn.neighbors import NearestNeighbors\n",
    "\n",
    "def get_features(name):\n",
    "    return clean_animes.loc[animes[animes.name == name].index]\n",
    "\n",
    "def print_recommended(indices):\n",
    "    for i in range(len(indices[0])):\n",
    "        print(animes.name[animes.index == indices[0][i]])\n",
    "\n",
    "model = NearestNeighbors()\n",
    "model.fit(clean_animes.values)"
   ]
  },
  {
   "cell_type": "code",
   "execution_count": 15,
   "metadata": {
    "colab": {
     "base_uri": "https://localhost:8080/"
    },
    "executionInfo": {
     "elapsed": 336,
     "status": "ok",
     "timestamp": 1641765509464,
     "user": {
      "displayName": "Harun Selman Karakaş",
      "photoUrl": "https://lh3.googleusercontent.com/a/default-user=s64",
      "userId": "07267645695106018309"
     },
     "user_tz": -180
    },
    "id": "xg-r_5KKtWn_",
    "outputId": "48294c5f-cb20-46c9-8811-7eee6d5544f9"
   },
   "outputs": [
    {
     "name": "stdout",
     "output_type": "stream",
     "text": [
      "615    Naruto: Shippuuden\n",
      "Name: name, dtype: object\n",
      "841    Naruto\n",
      "Name: name, dtype: object\n",
      "175    Katekyo Hitman Reborn!\n",
      "Name: name, dtype: object\n",
      "206    Dragon Ball Z\n",
      "Name: name, dtype: object\n",
      "1930    Dragon Ball Super\n",
      "Name: name, dtype: object\n",
      "1103    Boruto: Naruto the Movie - Naruto ga Hokage ni...\n",
      "Name: name, dtype: object\n",
      "1472    Naruto: Shippuuden Movie 4 - The Lost Tower\n",
      "Name: name, dtype: object\n",
      "3037    Starship Operators\n",
      "Name: name, dtype: object\n",
      "2996    Mudazumo Naki Kaikaku: The Legend of Koizumi\n",
      "Name: name, dtype: object\n",
      "1343    Naruto x UT\n",
      "Name: name, dtype: object\n"
     ]
    },
    {
     "name": "stderr",
     "output_type": "stream",
     "text": [
      "/Users/harun/Documents/venv/main/lib/python3.9/site-packages/sklearn/base.py:432: UserWarning: X has feature names, but NearestNeighbors was fitted without feature names\n",
      "  warnings.warn(\n"
     ]
    }
   ],
   "source": [
    "anime_in = get_features(\"Naruto\")\n",
    "index = model.kneighbors(anime_in, 10, return_distance=False)\n",
    "print_recommended(index)"
   ]
  },
  {
   "cell_type": "code",
   "execution_count": null,
   "metadata": {},
   "outputs": [],
   "source": []
  }
 ],
 "metadata": {
  "colab": {
   "authorship_tag": "ABX9TyMsuAErpP6bcb34WsDcbwj/",
   "collapsed_sections": [],
   "mount_file_id": "17u7o3DqkiQ5j1SFYoEtOeIPxDhcU4Rir",
   "name": "ML_Project.ipynb",
   "provenance": []
  },
  "kernelspec": {
   "display_name": "main",
   "language": "python",
   "name": "main"
  },
  "language_info": {
   "codemirror_mode": {
    "name": "ipython",
    "version": 3
   },
   "file_extension": ".py",
   "mimetype": "text/x-python",
   "name": "python",
   "nbconvert_exporter": "python",
   "pygments_lexer": "ipython3",
   "version": "3.9.16"
  }
 },
 "nbformat": 4,
 "nbformat_minor": 1
}
